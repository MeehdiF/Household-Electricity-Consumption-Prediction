{
 "cells": [
  {
   "cell_type": "markdown",
   "id": "d2ca8bd9-4f6f-43cb-8d9a-4d12d106d672",
   "metadata": {},
   "source": [
    "# STEPS FOR MACHINE LEARNING"
   ]
  },
  {
   "cell_type": "markdown",
   "id": "fc80a173-2fc6-49ef-9539-3b76e331f7b3",
   "metadata": {
    "jp-MarkdownHeadingCollapsed": true
   },
   "source": [
    "## Step 0: Import the necessary libraries"
   ]
  },
  {
   "cell_type": "code",
   "execution_count": 56,
   "id": "de3b4a3d-79c2-427c-921b-b14cd378e20d",
   "metadata": {},
   "outputs": [],
   "source": [
    "import matplotlib.pyplot as plt\n",
    "import pandas as pd\n",
    "import pylab as pl\n",
    "from sklearn.model_selection import train_test_split\n",
    "from sklearn.metrics import f1_score\n",
    "from sklearn import linear_model\n",
    "import numpy as np\n",
    "%matplotlib inline"
   ]
  },
  {
   "cell_type": "markdown",
   "id": "0f048d66-7621-47b5-a909-632e47b53a0f",
   "metadata": {
    "jp-MarkdownHeadingCollapsed": true
   },
   "source": [
    "## Step 1: Import Data"
   ]
  },
  {
   "cell_type": "code",
   "execution_count": 6,
   "id": "68e08280-e6b0-4068-a159-ef9f6285bc92",
   "metadata": {},
   "outputs": [
    {
     "name": "stderr",
     "output_type": "stream",
     "text": [
      "/tmp/ipykernel_8882/2784700669.py:4: DtypeWarning: Columns (2,3,4,5,6,7) have mixed types. Specify dtype option on import or set low_memory=False.\n",
      "  file = pd.read_csv('household_power_consumption.csv')\n"
     ]
    }
   ],
   "source": [
    "# readinag given csv file \n",
    "# and creating dataframe \n",
    "try:\n",
    "    file = pd.read_csv('household_power_consumption.csv')\n",
    "except FileNotFoundError as e:\n",
    "    print(f\"File Not Found! Error is [{e}]\")\n",
    "except NameError as e:\n",
    "    print(f\"File Not Found! Error is [{e}]\")"
   ]
  },
  {
   "cell_type": "code",
   "execution_count": 13,
   "id": "7c9aeee3-2b8e-4fc1-8823-5aed05abd6e1",
   "metadata": {},
   "outputs": [
    {
     "data": {
      "text/html": [
       "<div>\n",
       "<style scoped>\n",
       "    .dataframe tbody tr th:only-of-type {\n",
       "        vertical-align: middle;\n",
       "    }\n",
       "\n",
       "    .dataframe tbody tr th {\n",
       "        vertical-align: top;\n",
       "    }\n",
       "\n",
       "    .dataframe thead th {\n",
       "        text-align: right;\n",
       "    }\n",
       "</style>\n",
       "<table border=\"1\" class=\"dataframe\">\n",
       "  <thead>\n",
       "    <tr style=\"text-align: right;\">\n",
       "      <th></th>\n",
       "      <th>Date</th>\n",
       "      <th>Time</th>\n",
       "      <th>Global_active_power</th>\n",
       "      <th>Global_reactive_power</th>\n",
       "      <th>Voltage</th>\n",
       "      <th>Global_intensity</th>\n",
       "      <th>Sub_metering_1</th>\n",
       "      <th>Sub_metering_2</th>\n",
       "      <th>Sub_metering_3</th>\n",
       "    </tr>\n",
       "  </thead>\n",
       "  <tbody>\n",
       "    <tr>\n",
       "      <th>0</th>\n",
       "      <td>16/12/2006</td>\n",
       "      <td>17:24:00</td>\n",
       "      <td>4.216</td>\n",
       "      <td>0.418</td>\n",
       "      <td>234.840</td>\n",
       "      <td>18.400</td>\n",
       "      <td>0.000</td>\n",
       "      <td>1.000</td>\n",
       "      <td>17.0</td>\n",
       "    </tr>\n",
       "    <tr>\n",
       "      <th>1</th>\n",
       "      <td>16/12/2006</td>\n",
       "      <td>17:25:00</td>\n",
       "      <td>5.360</td>\n",
       "      <td>0.436</td>\n",
       "      <td>233.630</td>\n",
       "      <td>23.000</td>\n",
       "      <td>0.000</td>\n",
       "      <td>1.000</td>\n",
       "      <td>16.0</td>\n",
       "    </tr>\n",
       "    <tr>\n",
       "      <th>2</th>\n",
       "      <td>16/12/2006</td>\n",
       "      <td>17:26:00</td>\n",
       "      <td>5.374</td>\n",
       "      <td>0.498</td>\n",
       "      <td>233.290</td>\n",
       "      <td>23.000</td>\n",
       "      <td>0.000</td>\n",
       "      <td>2.000</td>\n",
       "      <td>17.0</td>\n",
       "    </tr>\n",
       "    <tr>\n",
       "      <th>3</th>\n",
       "      <td>16/12/2006</td>\n",
       "      <td>17:27:00</td>\n",
       "      <td>5.388</td>\n",
       "      <td>0.502</td>\n",
       "      <td>233.740</td>\n",
       "      <td>23.000</td>\n",
       "      <td>0.000</td>\n",
       "      <td>1.000</td>\n",
       "      <td>17.0</td>\n",
       "    </tr>\n",
       "    <tr>\n",
       "      <th>4</th>\n",
       "      <td>16/12/2006</td>\n",
       "      <td>17:28:00</td>\n",
       "      <td>3.666</td>\n",
       "      <td>0.528</td>\n",
       "      <td>235.680</td>\n",
       "      <td>15.800</td>\n",
       "      <td>0.000</td>\n",
       "      <td>1.000</td>\n",
       "      <td>17.0</td>\n",
       "    </tr>\n",
       "  </tbody>\n",
       "</table>\n",
       "</div>"
      ],
      "text/plain": [
       "         Date      Time Global_active_power Global_reactive_power  Voltage  \\\n",
       "0  16/12/2006  17:24:00               4.216                 0.418  234.840   \n",
       "1  16/12/2006  17:25:00               5.360                 0.436  233.630   \n",
       "2  16/12/2006  17:26:00               5.374                 0.498  233.290   \n",
       "3  16/12/2006  17:27:00               5.388                 0.502  233.740   \n",
       "4  16/12/2006  17:28:00               3.666                 0.528  235.680   \n",
       "\n",
       "  Global_intensity Sub_metering_1 Sub_metering_2  Sub_metering_3  \n",
       "0           18.400          0.000          1.000            17.0  \n",
       "1           23.000          0.000          1.000            16.0  \n",
       "2           23.000          0.000          2.000            17.0  \n",
       "3           23.000          0.000          1.000            17.0  \n",
       "4           15.800          0.000          1.000            17.0  "
      ]
     },
     "execution_count": 13,
     "metadata": {},
     "output_type": "execute_result"
    }
   ],
   "source": [
    "file.head()"
   ]
  },
  {
   "cell_type": "markdown",
   "id": "adac665a-a28a-4d60-b59f-a0b85e16a514",
   "metadata": {
    "jp-MarkdownHeadingCollapsed": true
   },
   "source": [
    "## Step 2: Clean the Data"
   ]
  },
  {
   "cell_type": "code",
   "execution_count": 24,
   "id": "189ddc18-a810-4416-a053-e785bdebd7fa",
   "metadata": {},
   "outputs": [],
   "source": [
    "file = file.drop(labels=[\"Date\", \"Time\"] ,axis=1)"
   ]
  },
  {
   "cell_type": "code",
   "execution_count": 49,
   "id": "f31c1b0e-7007-4470-8411-75e4bc6f5fa0",
   "metadata": {},
   "outputs": [
    {
     "data": {
      "text/html": [
       "<div>\n",
       "<style scoped>\n",
       "    .dataframe tbody tr th:only-of-type {\n",
       "        vertical-align: middle;\n",
       "    }\n",
       "\n",
       "    .dataframe tbody tr th {\n",
       "        vertical-align: top;\n",
       "    }\n",
       "\n",
       "    .dataframe thead th {\n",
       "        text-align: right;\n",
       "    }\n",
       "</style>\n",
       "<table border=\"1\" class=\"dataframe\">\n",
       "  <thead>\n",
       "    <tr style=\"text-align: right;\">\n",
       "      <th></th>\n",
       "      <th>Global_active_power</th>\n",
       "      <th>Global_reactive_power</th>\n",
       "      <th>Voltage</th>\n",
       "      <th>Global_intensity</th>\n",
       "      <th>Sub_metering_1</th>\n",
       "      <th>Sub_metering_2</th>\n",
       "      <th>Sub_metering_3</th>\n",
       "    </tr>\n",
       "  </thead>\n",
       "  <tbody>\n",
       "    <tr>\n",
       "      <th>0</th>\n",
       "      <td>4.216</td>\n",
       "      <td>0.418</td>\n",
       "      <td>234.84</td>\n",
       "      <td>18.4</td>\n",
       "      <td>0.0</td>\n",
       "      <td>1.0</td>\n",
       "      <td>17.0</td>\n",
       "    </tr>\n",
       "    <tr>\n",
       "      <th>1</th>\n",
       "      <td>5.360</td>\n",
       "      <td>0.436</td>\n",
       "      <td>233.63</td>\n",
       "      <td>23.0</td>\n",
       "      <td>0.0</td>\n",
       "      <td>1.0</td>\n",
       "      <td>16.0</td>\n",
       "    </tr>\n",
       "    <tr>\n",
       "      <th>2</th>\n",
       "      <td>5.374</td>\n",
       "      <td>0.498</td>\n",
       "      <td>233.29</td>\n",
       "      <td>23.0</td>\n",
       "      <td>0.0</td>\n",
       "      <td>2.0</td>\n",
       "      <td>17.0</td>\n",
       "    </tr>\n",
       "    <tr>\n",
       "      <th>3</th>\n",
       "      <td>5.388</td>\n",
       "      <td>0.502</td>\n",
       "      <td>233.74</td>\n",
       "      <td>23.0</td>\n",
       "      <td>0.0</td>\n",
       "      <td>1.0</td>\n",
       "      <td>17.0</td>\n",
       "    </tr>\n",
       "    <tr>\n",
       "      <th>4</th>\n",
       "      <td>3.666</td>\n",
       "      <td>0.528</td>\n",
       "      <td>235.68</td>\n",
       "      <td>15.8</td>\n",
       "      <td>0.0</td>\n",
       "      <td>1.0</td>\n",
       "      <td>17.0</td>\n",
       "    </tr>\n",
       "  </tbody>\n",
       "</table>\n",
       "</div>"
      ],
      "text/plain": [
       "   Global_active_power  Global_reactive_power  Voltage  Global_intensity  \\\n",
       "0                4.216                  0.418   234.84              18.4   \n",
       "1                5.360                  0.436   233.63              23.0   \n",
       "2                5.374                  0.498   233.29              23.0   \n",
       "3                5.388                  0.502   233.74              23.0   \n",
       "4                3.666                  0.528   235.68              15.8   \n",
       "\n",
       "   Sub_metering_1  Sub_metering_2  Sub_metering_3  \n",
       "0             0.0             1.0            17.0  \n",
       "1             0.0             1.0            16.0  \n",
       "2             0.0             2.0            17.0  \n",
       "3             0.0             1.0            17.0  \n",
       "4             0.0             1.0            17.0  "
      ]
     },
     "execution_count": 49,
     "metadata": {},
     "output_type": "execute_result"
    }
   ],
   "source": [
    "file.head(5)\n",
    "print(file.isnull().sum())"
   ]
  },
  {
   "cell_type": "code",
   "execution_count": 48,
   "id": "606bf258-a4bf-40ae-a688-cff38b92f7da",
   "metadata": {},
   "outputs": [
    {
     "data": {
      "text/plain": [
       "Global_active_power      float64\n",
       "Global_reactive_power    float64\n",
       "Voltage                  float64\n",
       "Global_intensity         float64\n",
       "Sub_metering_1           float64\n",
       "Sub_metering_2           float64\n",
       "Sub_metering_3           float64\n",
       "dtype: object"
      ]
     },
     "execution_count": 48,
     "metadata": {},
     "output_type": "execute_result"
    }
   ],
   "source": [
    "file.dtypes"
   ]
  },
  {
   "cell_type": "code",
   "execution_count": 47,
   "id": "c19a1f31-c9e6-4d21-bc0f-0ea994f47379",
   "metadata": {},
   "outputs": [
    {
     "name": "stdout",
     "output_type": "stream",
     "text": [
      "1)Before Changing the types: count    2.075259e+06\n",
      "mean     1.077950e+00\n",
      "std      1.057642e+00\n",
      "min      0.000000e+00\n",
      "25%      3.040000e-01\n",
      "50%      5.780000e-01\n",
      "75%      1.520000e+00\n",
      "max      1.112200e+01\n",
      "Name: Global_active_power, dtype: float64\n",
      "2)After Changing the types: count    2.075259e+06\n",
      "mean     1.077950e+00\n",
      "std      1.057642e+00\n",
      "min      0.000000e+00\n",
      "25%      3.040000e-01\n",
      "50%      5.780000e-01\n",
      "75%      1.520000e+00\n",
      "max      1.112200e+01\n",
      "Name: Global_active_power, dtype: float64\n",
      "1)Before Changing the types: count    2.075259e+06\n",
      "mean     1.221658e-01\n",
      "std      1.128556e-01\n",
      "min      0.000000e+00\n",
      "25%      4.600000e-02\n",
      "50%      1.000000e-01\n",
      "75%      1.920000e-01\n",
      "max      1.390000e+00\n",
      "Name: Global_reactive_power, dtype: float64\n",
      "2)After Changing the types: count    2.075259e+06\n",
      "mean     1.221658e-01\n",
      "std      1.128556e-01\n",
      "min      0.000000e+00\n",
      "25%      4.600000e-02\n",
      "50%      1.000000e-01\n",
      "75%      1.920000e-01\n",
      "max      1.390000e+00\n",
      "Name: Global_reactive_power, dtype: float64\n",
      "1)Before Changing the types: count    2.075259e+06\n",
      "mean     2.378249e+02\n",
      "std      2.697024e+01\n",
      "min      0.000000e+00\n",
      "25%      2.388900e+02\n",
      "50%      2.409600e+02\n",
      "75%      2.428600e+02\n",
      "max      2.541500e+02\n",
      "Name: Voltage, dtype: float64\n",
      "2)After Changing the types: count    2.075259e+06\n",
      "mean     2.378249e+02\n",
      "std      2.697024e+01\n",
      "min      0.000000e+00\n",
      "25%      2.388900e+02\n",
      "50%      2.409600e+02\n",
      "75%      2.428600e+02\n",
      "max      2.541500e+02\n",
      "Name: Voltage, dtype: float64\n",
      "1)Before Changing the types: count    2.075259e+06\n",
      "mean     4.569827e+00\n",
      "std      4.446361e+00\n",
      "min      0.000000e+00\n",
      "25%      1.400000e+00\n",
      "50%      2.600000e+00\n",
      "75%      6.400000e+00\n",
      "max      4.840000e+01\n",
      "Name: Global_intensity, dtype: float64\n",
      "2)After Changing the types: count    2.075259e+06\n",
      "mean     4.569827e+00\n",
      "std      4.446361e+00\n",
      "min      0.000000e+00\n",
      "25%      1.400000e+00\n",
      "50%      2.600000e+00\n",
      "75%      6.400000e+00\n",
      "max      4.840000e+01\n",
      "Name: Global_intensity, dtype: float64\n",
      "1)Before Changing the types: count    2.075259e+06\n",
      "mean     1.107879e+00\n",
      "std      6.115669e+00\n",
      "min      0.000000e+00\n",
      "25%      0.000000e+00\n",
      "50%      0.000000e+00\n",
      "75%      0.000000e+00\n",
      "max      8.800000e+01\n",
      "Name: Sub_metering_1, dtype: float64\n",
      "2)After Changing the types: count    2.075259e+06\n",
      "mean     1.107879e+00\n",
      "std      6.115669e+00\n",
      "min      0.000000e+00\n",
      "25%      0.000000e+00\n",
      "50%      0.000000e+00\n",
      "75%      0.000000e+00\n",
      "max      8.800000e+01\n",
      "Name: Sub_metering_1, dtype: float64\n",
      "1)Before Changing the types: count    2.075259e+06\n",
      "mean     1.282265e+00\n",
      "std      5.787271e+00\n",
      "min      0.000000e+00\n",
      "25%      0.000000e+00\n",
      "50%      0.000000e+00\n",
      "75%      1.000000e+00\n",
      "max      8.000000e+01\n",
      "Name: Sub_metering_2, dtype: float64\n",
      "2)After Changing the types: count    2.075259e+06\n",
      "mean     1.282265e+00\n",
      "std      5.787271e+00\n",
      "min      0.000000e+00\n",
      "25%      0.000000e+00\n",
      "50%      0.000000e+00\n",
      "75%      1.000000e+00\n",
      "max      8.000000e+01\n",
      "Name: Sub_metering_2, dtype: float64\n",
      "1)Before Changing the types: count    2.075259e+06\n",
      "mean     6.377598e+00\n",
      "std      8.414871e+00\n",
      "min      0.000000e+00\n",
      "25%      0.000000e+00\n",
      "50%      1.000000e+00\n",
      "75%      1.700000e+01\n",
      "max      3.100000e+01\n",
      "Name: Sub_metering_3, dtype: float64\n",
      "2)After Changing the types: count    2.075259e+06\n",
      "mean     6.377598e+00\n",
      "std      8.414871e+00\n",
      "min      0.000000e+00\n",
      "25%      0.000000e+00\n",
      "50%      1.000000e+00\n",
      "75%      1.700000e+01\n",
      "max      3.100000e+01\n",
      "Name: Sub_metering_3, dtype: float64\n"
     ]
    }
   ],
   "source": [
    "for col in file.columns:\n",
    "    print(f\"1)Before Changing the types: {file[col].describe()}\")\n",
    "    file[col] = file[col].replace('?', pd.NA).fillna(0).astype(float)\n",
    "    print(f\"2)After Changing the types: {file[col].describe()}\")"
   ]
  },
  {
   "cell_type": "markdown",
   "id": "29d75347-3ee5-48a2-a95b-5c871d91b298",
   "metadata": {
    "jp-MarkdownHeadingCollapsed": true
   },
   "source": [
    "## Step 3: Split the Data into Training/testing"
   ]
  },
  {
   "cell_type": "code",
   "execution_count": 54,
   "id": "98c1c4d3-5a21-4334-af16-af0f2d7e013a",
   "metadata": {},
   "outputs": [],
   "source": [
    "X = np.asanyarray(file[[\"Global_reactive_power\", \"Voltage\", \"Global_intensity\",\"Sub_metering_1\",\"Sub_metering_2\",\"Sub_metering_3\"]])\n",
    "y = np.asanyarray(file[[\"Global_active_power\"]])"
   ]
  },
  {
   "cell_type": "code",
   "execution_count": 57,
   "id": "7a6ac127-20be-4e6b-b048-7584c67d854e",
   "metadata": {},
   "outputs": [
    {
     "name": "stdout",
     "output_type": "stream",
     "text": [
      "Train set: (1660207, 6) (1660207, 1)\n",
      "Test set: (415052, 6) (415052, 1)\n"
     ]
    }
   ],
   "source": [
    "X_train, X_test, y_train, y_test = train_test_split( X, y, test_size=0.2, random_state=38)\n",
    "print ('Train set:', X_train.shape,  y_train.shape)\n",
    "print ('Test set:', X_test.shape,  y_test.shape)"
   ]
  },
  {
   "cell_type": "markdown",
   "id": "6e70ba1a-18c9-437f-89af-6b037d62d078",
   "metadata": {
    "jp-MarkdownHeadingCollapsed": true
   },
   "source": [
    "## Step 4: Create a Model"
   ]
  },
  {
   "cell_type": "code",
   "execution_count": 1,
   "id": "e56e12e3-712d-4266-8bdb-944f94b4601a",
   "metadata": {},
   "outputs": [
    {
     "ename": "NameError",
     "evalue": "name 'linear_model' is not defined",
     "output_type": "error",
     "traceback": [
      "\u001b[0;31m---------------------------------------------------------------------------\u001b[0m",
      "\u001b[0;31mNameError\u001b[0m                                 Traceback (most recent call last)",
      "Cell \u001b[0;32mIn[1], line 1\u001b[0m\n\u001b[0;32m----> 1\u001b[0m regr \u001b[38;5;241m=\u001b[39m \u001b[43mlinear_model\u001b[49m\u001b[38;5;241m.\u001b[39mLinearRegression()\n",
      "\u001b[0;31mNameError\u001b[0m: name 'linear_model' is not defined"
     ]
    }
   ],
   "source": [
    "regr = linear_model.LinearRegression()"
   ]
  },
  {
   "cell_type": "markdown",
   "id": "b47064b4-6207-42e8-a8e2-0618a36cc655",
   "metadata": {
    "jp-MarkdownHeadingCollapsed": true
   },
   "source": [
    "## Step 5: Train the Model"
   ]
  },
  {
   "cell_type": "code",
   "execution_count": null,
   "id": "63a862ee-4743-41e8-9a76-093811ad92d3",
   "metadata": {},
   "outputs": [],
   "source": [
    "regr.fit(X_train, y_train)\n",
    "# The coefficients\n",
    "print ('Coefficients: ', regr.coef_)"
   ]
  },
  {
   "cell_type": "markdown",
   "id": "b18f6a39-c06e-4a34-a87b-73b7bca3b4ef",
   "metadata": {
    "jp-MarkdownHeadingCollapsed": true
   },
   "source": [
    "## Step 6: Make Predictions"
   ]
  },
  {
   "cell_type": "code",
   "execution_count": 59,
   "id": "edbb417e-32b2-4a6d-9e3e-fa3cfed1919b",
   "metadata": {},
   "outputs": [],
   "source": [
    "y_hat= regr.predict(X_test)"
   ]
  },
  {
   "cell_type": "markdown",
   "id": "47683be9-b681-4c91-9a09-98415dbc1e53",
   "metadata": {
    "jp-MarkdownHeadingCollapsed": true
   },
   "source": [
    "## Step 7: Evaluation and Improve"
   ]
  },
  {
   "cell_type": "code",
   "execution_count": 60,
   "id": "2082e913-deb4-4184-9752-924ba1025569",
   "metadata": {},
   "outputs": [
    {
     "name": "stdout",
     "output_type": "stream",
     "text": [
      "Residual sum of squares: 0.00\n",
      "Variance score: 1.00\n"
     ]
    }
   ],
   "source": [
    "print(\"Residual sum of squares: %.2f\"\n",
    "      % np.mean((y_hat - y_test) ** 2))\n",
    "\n",
    "# Explained variance score: 1 is perfect prediction\n",
    "print('Variance score: %.2f' % regr.score(X_test, y_test))"
   ]
  }
 ],
 "metadata": {
  "kernelspec": {
   "display_name": "Python 3 (ipykernel)",
   "language": "python",
   "name": "python3"
  },
  "language_info": {
   "codemirror_mode": {
    "name": "ipython",
    "version": 3
   },
   "file_extension": ".py",
   "mimetype": "text/x-python",
   "name": "python",
   "nbconvert_exporter": "python",
   "pygments_lexer": "ipython3",
   "version": "3.12.3"
  }
 },
 "nbformat": 4,
 "nbformat_minor": 5
}
